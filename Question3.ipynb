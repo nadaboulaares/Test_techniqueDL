{
 "cells": [
  {
   "cell_type": "markdown",
   "metadata": {},
   "source": [
    "## Question 3 :\n",
    "Implémentez en utilisant python3 un connecteur Facebook et/ou Instagram\n",
    "permettant de colleter des postes (image, texte et commentaires liés aux images) par\n",
    "rapport à un sujet défini, exemple « le décès du président Jacques Chirac ».\n",
    "Il est recommandé de stocker les textes et les images dans une base MongoDB.\n",
    "Le but de cette question est d’évaluer la qualité de votre code source."
   ]
  },
  {
   "cell_type": "markdown",
   "metadata": {},
   "source": [
    "## Selenium\n",
    "Selenium permet de scraper des publication facebook en relation avec un Hashtag spécifique"
   ]
  },
  {
   "cell_type": "markdown",
   "metadata": {},
   "source": [
    "pour configurer Selenium avec ChromeDriver sur Ubuntu 20.04 \n",
    "https://tecadmin.net/setup-selenium-chromedriver-on-ubuntu/"
   ]
  },
  {
   "cell_type": "code",
   "execution_count": 3,
   "metadata": {
    "ExecuteTime": {
     "end_time": "2021-05-17T00:05:39.700668Z",
     "start_time": "2021-05-17T00:05:38.871728Z"
    }
   },
   "outputs": [],
   "source": [
    "from selenium import webdriver \n",
    "from pymongo import MongoClient\n",
    "from bs4 import BeautifulSoup\n",
    "from selenium.webdriver.support.wait import WebDriverWait\n",
    "from selenium.webdriver.support import expected_conditions as EC\n",
    "from selenium.webdriver.common.by import By\n",
    "import pymongo\n",
    "import requests\n",
    "from time import sleep\n",
    "import urllib.request\n",
    "import os"
   ]
  },
  {
   "cell_type": "code",
   "execution_count": 2,
   "metadata": {
    "ExecuteTime": {
     "end_time": "2021-05-17T00:05:41.179119Z",
     "start_time": "2021-05-17T00:05:39.722491Z"
    }
   },
   "outputs": [],
   "source": [
    "# Pilote selenium Chrome \n",
    "wd = webdriver.Chrome(r'chromedriver')"
   ]
  },
  {
   "cell_type": "code",
   "execution_count": 3,
   "metadata": {
    "ExecuteTime": {
     "end_time": "2021-05-17T00:05:41.856656Z",
     "start_time": "2021-05-17T00:05:41.205408Z"
    }
   },
   "outputs": [],
   "source": [
    "# Go to the url\n",
    "wd.get('https://www.facebook.com/')## i will not use the normal fb because i found a problem with the search button \n",
    "wd.get('https://mbasic.facebook.com/')\n",
    "\n"
   ]
  },
  {
   "cell_type": "code",
   "execution_count": 4,
   "metadata": {
    "ExecuteTime": {
     "end_time": "2021-05-17T00:06:12.430073Z",
     "start_time": "2021-05-17T00:06:07.542042Z"
    }
   },
   "outputs": [],
   "source": [
    "#target username and password\n",
    "username = WebDriverWait(wd, 10).until(EC.element_to_be_clickable((By.CSS_SELECTOR, \"input[name='email']\")))\n",
    "password = WebDriverWait(wd, 10).until(EC.element_to_be_clickable((By.CSS_SELECTOR, \"input[name='pass']\")))\n",
    "\n",
    "#enter username and password\n",
    "username.clear()\n",
    "username.send_keys(\"\")#add adresse mail facebook\n",
    "password.clear()\n",
    "password.send_keys(\"\")#add password\n",
    "\n",
    "#target the login button and click it\n",
    "login_btn = wd.find_element(By.XPATH,'//*[@id=\"login_form\"]/ul/li[3]/input')\n",
    "login_btn.click()"
   ]
  },
  {
   "cell_type": "code",
   "execution_count": 5,
   "metadata": {
    "ExecuteTime": {
     "end_time": "2021-05-17T00:06:17.672355Z",
     "start_time": "2021-05-17T00:06:12.599791Z"
    }
   },
   "outputs": [],
   "source": [
    "\n",
    "\n",
    "#Skip remember popup\n",
    "login_btn = wd.find_element(By.XPATH,'//*[@id=\"root\"]/table/tbody/tr/td/div/form/div/input')\n",
    "login_btn.click()"
   ]
  },
  {
   "cell_type": "code",
   "execution_count": 6,
   "metadata": {
    "ExecuteTime": {
     "end_time": "2021-05-17T00:06:21.855034Z",
     "start_time": "2021-05-17T00:06:18.705017Z"
    }
   },
   "outputs": [],
   "source": [
    "#Search\n",
    "search = WebDriverWait(wd, 10).until(EC.element_to_be_clickable((By.CSS_SELECTOR, \"input[name='query']\")))\n",
    "\n",
    "#enter desired Hashtag\n",
    "search.clear()\n",
    "search.send_keys(\"#le décès du président Jacques Chirac\")\n",
    "\n",
    "#search button click\n",
    "search_btn = wd.find_element(By.XPATH,'//*[@id=\"header\"]/form/table/tbody/tr/td[3]/input')\n",
    "search_btn.click()\n"
   ]
  },
  {
   "cell_type": "markdown",
   "metadata": {},
   "source": [
    "## BeautifulSoup\n",
    " parser les pages html et extraire des données"
   ]
  },
  {
   "cell_type": "code",
   "execution_count": 7,
   "metadata": {
    "ExecuteTime": {
     "end_time": "2021-05-17T00:07:02.572544Z",
     "start_time": "2021-05-17T00:07:02.565600Z"
    }
   },
   "outputs": [],
   "source": [
    "list_dir=\"\"\n",
    "default_dir = os.path.join(list_dir,\"collection\")\n",
    "opener = urllib.request.build_opener()\n",
    "urllib.request.install_opener(opener)"
   ]
  },
  {
   "cell_type": "code",
   "execution_count": 25,
   "metadata": {
    "ExecuteTime": {
     "end_time": "2021-05-17T00:07:12.989258Z",
     "start_time": "2021-05-17T00:07:04.501619Z"
    }
   },
   "outputs": [],
   "source": [
    "posts = wd.find_element(By.XPATH,'//*[@id=\"u_0_8_H6\"]/a')\n",
    "links= posts.find_elements(By.LINK_TEXT,'All')\n",
    "\n",
    "pubs = []\n",
    "for link in links:\n",
    " pub = {}\n",
    " page_content = requests.get(link.get_attribute('href')).content\n",
    " soup = BeautifulSoup(page_content, 'html.parser')\n",
    "    #get post text\n",
    "    \n",
    " pub['text'] = soup.p.text\n",
    " pub['image'] = soup.img[\"src\"]\n",
    " img_url = soup.img[\"src\"]\n",
    " filename = os.path.join(default_dir, img_url.split(\"/\")[-1])\n",
    " img_data = opener.open(img_url)\n",
    " f = open(filename,\"wb\")\n",
    " f.write(img_data.read())\n",
    " f.close()\n",
    " pubs.append(pub)"
   ]
  },
  {
   "cell_type": "code",
   "execution_count": 26,
   "metadata": {
    "ExecuteTime": {
     "end_time": "2021-05-17T00:07:13.100864Z",
     "start_time": "2021-05-17T00:07:13.080030Z"
    },
    "scrolled": true
   },
   "outputs": [
    {
     "data": {
      "text/plain": [
       "[]"
      ]
     },
     "execution_count": 26,
     "metadata": {},
     "output_type": "execute_result"
    }
   ],
   "source": [
    "pubs"
   ]
  },
  {
   "cell_type": "markdown",
   "metadata": {},
   "source": [
    "## MongoDB\n",
    " stocker les textes et les images dans une base MongoDB."
   ]
  },
  {
   "cell_type": "code",
   "execution_count": 27,
   "metadata": {
    "ExecuteTime": {
     "end_time": "2021-05-17T00:07:26.115706Z",
     "start_time": "2021-05-17T00:07:16.437007Z"
    }
   },
   "outputs": [],
   "source": [
    "#MongoDB connection\n",
    "import pymongo\n",
    "from pymongo import MongoClient\n",
    "client = pymongo.MongoClient(\"mongodb://127.0.0.1:27017\")\n"
   ]
  },
  {
   "cell_type": "code",
   "execution_count": 70,
   "metadata": {},
   "outputs": [
    {
     "data": {
      "text/plain": [
       "Database(MongoClient(host=['127.0.0.1:27017'], document_class=dict, tz_aware=False, connect=True), 'facebook')"
      ]
     },
     "execution_count": 70,
     "metadata": {},
     "output_type": "execute_result"
    }
   ],
   "source": [
    "mydb = client[\"facebook\"]\n",
    "mycol = mydb[\"posts\"]\n",
    "mydb\n"
   ]
  },
  {
   "cell_type": "code",
   "execution_count": 76,
   "metadata": {},
   "outputs": [],
   "source": [
    "#insert the list of dicts\n",
    "mycol.insert_many(pubs)\n",
    "\n",
    "#Show a sample \n",
    "mycol.find_one()"
   ]
  },
  {
   "cell_type": "code",
   "execution_count": null,
   "metadata": {},
   "outputs": [],
   "source": []
  }
 ],
 "metadata": {
  "interpreter": {
   "hash": "916dbcbb3f70747c44a77c7bcd40155683ae19c65e1c03b4aa3499c5328201f1"
  },
  "kernelspec": {
   "display_name": "Python 3.8.10 64-bit",
   "language": "python",
   "name": "python3"
  },
  "language_info": {
   "codemirror_mode": {
    "name": "ipython",
    "version": 3
   },
   "file_extension": ".py",
   "mimetype": "text/x-python",
   "name": "python",
   "nbconvert_exporter": "python",
   "pygments_lexer": "ipython3",
   "version": "3.8.10"
  },
  "toc": {
   "base_numbering": 1,
   "nav_menu": {},
   "number_sections": true,
   "sideBar": true,
   "skip_h1_title": false,
   "title_cell": "Table of Contents",
   "title_sidebar": "Contents",
   "toc_cell": false,
   "toc_position": {},
   "toc_section_display": true,
   "toc_window_display": false
  },
  "varInspector": {
   "cols": {
    "lenName": 16,
    "lenType": 16,
    "lenVar": 40
   },
   "kernels_config": {
    "python": {
     "delete_cmd_postfix": "",
     "delete_cmd_prefix": "del ",
     "library": "var_list.py",
     "varRefreshCmd": "print(var_dic_list())"
    },
    "r": {
     "delete_cmd_postfix": ") ",
     "delete_cmd_prefix": "rm(",
     "library": "var_list.r",
     "varRefreshCmd": "cat(var_dic_list()) "
    }
   },
   "types_to_exclude": [
    "module",
    "function",
    "builtin_function_or_method",
    "instance",
    "_Feature"
   ],
   "window_display": false
  }
 },
 "nbformat": 4,
 "nbformat_minor": 4
}
